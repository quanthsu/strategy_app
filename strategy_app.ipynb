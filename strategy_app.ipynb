{
 "cells": [
  {
   "cell_type": "code",
   "execution_count": 1,
   "id": "12e4d538",
   "metadata": {
    "ExecuteTime": {
     "end_time": "2023-04-07T02:49:38.814285Z",
     "start_time": "2023-04-07T02:49:38.666508Z"
    }
   },
   "outputs": [
    {
     "name": "stderr",
     "output_type": "stream",
     "text": [
      "2023-04-21 17:49:52.789 | WARNING  | importlib._bootstrap:_call_with_frames_removed:219 - Optional: pip install shioaji[speed] for better performance.\n"
     ]
    },
    {
     "name": "stdout",
     "output_type": "stream",
     "text": [
      "['2634 100 0.9\\n', '2208 100 0.9\\n', '3481 100 0.9\\n', '2515 100 0.9\\n', '1605 100 0.9\\n', '3231 100 0.9\\n', '1513 100 0.9\\n', '2457 100 0.9\\n', '1609 100 0.9\\n', '2382 100 0.9']\n",
      "{'2634': ['2634', '100', '0.9'], '2208': ['2208', '100', '0.9'], '3481': ['3481', '100', '0.9'], '2515': ['2515', '100', '0.9'], '1605': ['1605', '100', '0.9'], '3231': ['3231', '100', '0.9'], '1513': ['1513', '100', '0.9'], '2457': ['2457', '100', '0.9'], '1609': ['1609', '100', '0.9'], '2382': ['2382', '100', '0.9']}\n",
      "['5353 100 0.9\\n', '2413 100 0.9\\n', '2342 100 0.9\\n']\n",
      "{'5353': ['5353', '100', '0.9'], '2413': ['2413', '100', '0.9'], '2342': ['2342', '100', '0.9']}\n",
      "['6612 100 0.9\\n', '8478 100 0.9\\n', '6143 100 0.9\\n']\n",
      "{'6612': ['6612', '100', '0.9'], '8478': ['8478', '100', '0.9'], '6143': ['6143', '100', '0.9']}\n",
      "['1101 100 0.9\\n', '1504 100 0.9\\n', '3362 100 0.9\\n']\n",
      "{'1101': ['1101', '100', '0.9'], '1504': ['1504', '100', '0.9'], '3362': ['3362', '100', '0.9']}\n",
      "['2303 100 0.9\\n', '2330 100 0.9\\n', '2603 100 0.9\\n']\n",
      "{'2303': ['2303', '100', '0.9'], '2330': ['2330', '100', '0.9'], '2603': ['2603', '100', '0.9']}\n",
      "['5425 100 0.9\\n', '6122 100 0.9\\n', '4541 100 0.9\\n']\n",
      "{'5425': ['5425', '100', '0.9'], '6122': ['6122', '100', '0.9'], '4541': ['4541', '100', '0.9']}\n",
      "Response Code: 0 | Event Code: 0 | Info: host '203.66.91.161:80', hostname '203.66.91.161:80' IP 203.66.91.161:80 (host 1 of 1) (host connection attempt 1 of 1) (total connection attempt 1 of 1) | Event: Session up\n"
     ]
    }
   ],
   "source": [
    "import tkinter as tk\n",
    "import os\n",
    "import utils.baojia as bj\n",
    "\n",
    "\n",
    "class MainApp():\n",
    "    def __init__(self):\n",
    "        self.strategy_headline = ['啟動','策略名稱','最大金額','槓桿比率','商品數','持倉金額','損益']\n",
    "        self.app = tk.Tk()\n",
    "        self.frame_strategy = tk.Frame(self.app)\n",
    "        self.frame_strategy.grid(column = 0, row = 0)    \n",
    "        self.build_headline()\n",
    "        self.frame_symbol = tk.Frame(self.app)\n",
    "        self.frame_symbol.grid(column = 1, row = 0, sticky = tk.N)\n",
    "        self.frame_status = tk.Frame(self.app)\n",
    "        self.frame_status.grid(column = 0, row = 1, columnspan = 2)\n",
    "        self.strategy_pos = 1\n",
    "        self.strategy_dict = {}\n",
    "        self.strategy_info_dict = {}\n",
    "        self.read_strategy()\n",
    "        self.initial_ui = {\n",
    "           '商品':{},\n",
    "           '部位':{},\n",
    "           '庫存':{},\n",
    "           '目標庫存':{},\n",
    "           '未實現':{},\n",
    "           '今日已實現':{},\n",
    "           '進場時間':{},\n",
    "           '出場時間':{},\n",
    "           '模式':{},\n",
    "           '狀態':{},\n",
    "           '現價':{}\n",
    "           }\n",
    "        self.ui_headline_dict:dict[str,tk.Label] = {}   \n",
    "        self.build_uiheadline()\n",
    "        self.symbol_list = SymbolList(self)  \n",
    "        #self.symbol_list.add_symbol('strategyA')\n",
    "        bj_api = bj.Baojia('E3Dq8craKEUCQ7aRhqidT922wTvwz1fbkp1jsfFTjx3H','AdgmCvqD2SJm2THvqZhwE54XkNmaaep6WocZWCiQ1zsh')\n",
    "\n",
    "        \n",
    "    def build_uiheadline(self):\n",
    "        for x,i in enumerate(self.initial_ui):\n",
    "            self.ui_headline_dict[i] = tk.Label(self.frame_symbol,text = i)\n",
    "            self.ui_headline_dict[i].grid(column=x ,row=0,sticky = tk.N)\n",
    "        \n",
    "    def read_strategy(self):\n",
    "        self.strategies = os.listdir('strategies/stock_picking')\n",
    "        self.strategies_settings = {}\n",
    "        for i in self.strategies:\n",
    "            with open('strategies/stock_picking/'+i,'r+') as f:\n",
    "                rl = f.readlines()\n",
    "            print(rl)\n",
    "            rl = {i.split(' ')[0]:[j.rstrip() for j in i.split(' ')] for i in rl}\n",
    "            print(rl)\n",
    "            self.strategies_settings[i.replace('.txt','')] = rl\n",
    "        for i in self.strategies_settings:\n",
    "            self.strategy_dict[i]=Strategy_info(self,i,'500','0.9',self.strategies_settings[i],'stock_picking')   \n",
    "#         print(self.strategies_settings)\n",
    "        \n",
    "    def build_headline(self):\n",
    "        self.headline_list = [tk.Label(self.frame_strategy, text = i) for i in self.strategy_headline]\n",
    "        for x,i in enumerate(self.headline_list):\n",
    "            i.grid(column = x,row = 0)\n",
    "    def add_strategy(self,strategy_name):\n",
    "        pass\n",
    "    \n",
    "    def run(self):\n",
    "        self.app.mainloop()\n",
    "\n",
    "class Strategy_info():\n",
    "    def __init__(self,parent:MainApp,\n",
    "                 strategy_name,\n",
    "                 max_amount,  \n",
    "                 leverage,\n",
    "                 strategy_info,\n",
    "                 strategy_type\n",
    "                ):\n",
    "        self.parent = parent\n",
    "        self.strategy_info = strategy_info  \n",
    "        self.strategy_name = strategy_name\n",
    "        self.headline_list = self.parent.strategy_headline  \n",
    "        self.act_dict = {\n",
    "            'btn': self.build_button,\n",
    "            'lab': self.build_label\n",
    "        }\n",
    "        self.dict = {\n",
    "            '啟動':{'type':'btn','text':'啟動','command':None,'x':0,'y':0},\n",
    "            '策略名稱': {'type':'btn','text':strategy_name,'command':self.test,'x':1,'y':0 },\n",
    "            '最大金額': {'type':'lab','text':max_amount,'command':None,'x':2,'y':0 },\n",
    "            '槓桿比率': {'type':'lab','text':leverage,'command':None,'x':3,'y':0 },\n",
    "            '商品數': {'type':'lab','text':len(self.strategy_info),'command':None,'x':4,'y':0 },\n",
    "            '持倉金額': {'type':'lab','text':'0','command':None,'x':5,'y':0},\n",
    "            '損益':  {'type':'lab','text':'0','command':None,'x':6,'y':0 },\n",
    "        }\n",
    "        self.build_info()\n",
    "        \n",
    "    def build_info(self):\n",
    "        self.build_dict = {}\n",
    "        for i in self.dict:\n",
    "            info = self.dict[i]       \n",
    "            self.build_dict[i] = self.act_dict[info['type']](info['text'],info['command'])                                \n",
    "            self.build_dict[i].grid(column = info['x'],row = info['y']+self.parent.strategy_pos)\n",
    "        self.parent.strategy_pos += 1\n",
    "            \n",
    "    def build_button(self,btn_name,command=None):\n",
    "        return tk.Button(self.parent.frame_strategy,text = btn_name , command = command)\n",
    "    \n",
    "    def build_label(self,lab_name,command=None):\n",
    "        return tk.Label(self.parent.frame_strategy,text = lab_name )  \n",
    "    \n",
    "    def test(self):\n",
    "        self.parent.symbol_list.add_symbol(self.strategy_name)\n",
    "        \n",
    "    \n",
    "        \n",
    "class SymbolList():\n",
    "    def __init__(self,parent):\n",
    "        self.info_dict = {}\n",
    "        self.parent:MainApp = parent\n",
    "        self.info_component = {}\n",
    "        self.input_symbol(self.parent.strategies_settings)\n",
    "        #self.show_symbol_info()\n",
    "        self.ui_info_list = {}\n",
    "\n",
    "    def input_symbol(self,symbol_dict):\n",
    "        self.info_dict = symbol_dict\n",
    "#         print(self.info_dict)\n",
    "        self.info_component\n",
    "        \n",
    "    def add_symbol(self,strategies):\n",
    "        for i in self.ui_info_list:\n",
    "            self.ui_info_list[i].forget()\n",
    "        self.ui_info_list = {}\n",
    "        \n",
    "        for i in self.parent.strategies_settings[strategies]:\n",
    "            self.ui_info_list[i] = tk.Label(master=self.parent.frame_symbol,text = i)\n",
    "            self.ui_info_list[i].grid(column = 0, row = len(self.ui_info_list)+1)\n",
    "        \n",
    "    def run(self):\n",
    "        pass\n",
    "\n",
    "class SymbolPosition():\n",
    "    def __init__(self,parent,strategy,symbol,position=0,filled=0,average_cost=0):\n",
    "        self.strategy = strategy\n",
    "        self.symbol = symbol\n",
    "        self.position = position\n",
    "        self.filled = filled\n",
    "        self.average_cost = average_cost\n",
    "        self.ui_head_line = 0\n",
    "\n",
    "    def makeInfoUI(self):\n",
    "        pass\n",
    "\n",
    "\n",
    "window = MainApp()\n",
    "window.run()\n"
   ]
  },
  {
   "cell_type": "code",
   "execution_count": null,
   "id": "9d992b8a",
   "metadata": {
    "ExecuteTime": {
     "end_time": "2023-03-29T00:40:38.239222Z",
     "start_time": "2023-03-29T00:40:35.780921Z"
    }
   },
   "outputs": [],
   "source": []
  },
  {
   "cell_type": "code",
   "execution_count": null,
   "id": "b7d05e0c",
   "metadata": {},
   "outputs": [],
   "source": []
  },
  {
   "cell_type": "code",
   "execution_count": null,
   "id": "e273e666",
   "metadata": {},
   "outputs": [],
   "source": []
  },
  {
   "cell_type": "code",
   "execution_count": null,
   "id": "900ea7cd",
   "metadata": {},
   "outputs": [],
   "source": []
  }
 ],
 "metadata": {
  "kernelspec": {
   "display_name": "Python 3.7.0 ('base')",
   "language": "python",
   "name": "python3"
  },
  "language_info": {
   "codemirror_mode": {
    "name": "ipython",
    "version": 3
   },
   "file_extension": ".py",
   "mimetype": "text/x-python",
   "name": "python",
   "nbconvert_exporter": "python",
   "pygments_lexer": "ipython3",
   "version": "3.7.0"
  },
  "toc": {
   "base_numbering": 1,
   "nav_menu": {},
   "number_sections": true,
   "sideBar": true,
   "skip_h1_title": false,
   "title_cell": "Table of Contents",
   "title_sidebar": "Contents",
   "toc_cell": false,
   "toc_position": {},
   "toc_section_display": true,
   "toc_window_display": false
  },
  "varInspector": {
   "cols": {
    "lenName": 16,
    "lenType": 16,
    "lenVar": 40
   },
   "kernels_config": {
    "python": {
     "delete_cmd_postfix": "",
     "delete_cmd_prefix": "del ",
     "library": "var_list.py",
     "varRefreshCmd": "print(var_dic_list())"
    },
    "r": {
     "delete_cmd_postfix": ") ",
     "delete_cmd_prefix": "rm(",
     "library": "var_list.r",
     "varRefreshCmd": "cat(var_dic_list()) "
    }
   },
   "types_to_exclude": [
    "module",
    "function",
    "builtin_function_or_method",
    "instance",
    "_Feature"
   ],
   "window_display": false
  },
  "vscode": {
   "interpreter": {
    "hash": "8447ca19da3ee0aee90e44cfd2e8df4e9a58a16ee661fecf48780de450ea5738"
   }
  }
 },
 "nbformat": 4,
 "nbformat_minor": 5
}
